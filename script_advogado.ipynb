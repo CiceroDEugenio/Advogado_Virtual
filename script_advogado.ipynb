{
  "nbformat": 4,
  "nbformat_minor": 0,
  "metadata": {
    "colab": {
      "provenance": [],
      "authorship_tag": "ABX9TyMF9ol4jj9/97ty/TB2psfN",
      "include_colab_link": true
    },
    "kernelspec": {
      "name": "python3",
      "display_name": "Python 3"
    },
    "language_info": {
      "name": "python"
    }
  },
  "cells": [
    {
      "cell_type": "markdown",
      "metadata": {
        "id": "view-in-github",
        "colab_type": "text"
      },
      "source": [
        "<a href=\"https://colab.research.google.com/github/CiceroDEugenio/Advogado_Virtual/blob/main/script_advogado.ipynb\" target=\"_parent\"><img src=\"https://colab.research.google.com/assets/colab-badge.svg\" alt=\"Open In Colab\"/></a>"
      ]
    },
    {
      "cell_type": "markdown",
      "source": [
        "Instalando pacotes"
      ],
      "metadata": {
        "id": "-aNiUk53Fb_d"
      }
    },
    {
      "cell_type": "code",
      "execution_count": 1,
      "metadata": {
        "id": "pN8RM4M0EHEV"
      },
      "outputs": [],
      "source": [
        "!pip install -U -q google-generativeai"
      ]
    },
    {
      "cell_type": "code",
      "source": [
        "import numpy as np\n",
        "import pandas as pd\n",
        "import google.generativeai as genai\n",
        "from google.colab import userdata\n",
        "\n",
        "GOOGLE_API_KEY=userdata.get('API_KEY_CICERO')\n",
        "\n",
        "genai.configure(api_key=GOOGLE_API_KEY)"
      ],
      "metadata": {
        "id": "IE2q5Lv6Eij1"
      },
      "execution_count": 2,
      "outputs": []
    },
    {
      "cell_type": "code",
      "source": [
        "documents = [\n",
        "    {\n",
        "        \"Titulo\": \"Pedido de Aposentadoria por Idade - Petição Administrativa\",\n",
        "        \"Conteúdo\": \"Excelentíssimo Senhor Presidente do Instituto Nacional do Seguro Social (INSS), \\n\\nEu, [SEU NOME], inscrito no CPF [SEU CPF], venho, respeitosamente, por meio desta petição, requerer a concessão do benefício de aposentadoria por idade, conforme previsão legal estabelecida pela Lei [NÚMERO DA LEI], de [DATA DA LEI], e demais dispositivos aplicáveis.\\n\\n[DESCRIÇÃO DOS FATOS E FUNDAMENTOS JURÍDICOS].\\n\\nDiante do exposto, requer a Vossa Senhoria a concessão do benefício de aposentadoria por idade, com base nos fundamentos apresentados. \\n\\nTermos em que,\\n\\n[LOCAL E DATA].\\n\\n[ASSINATURA DO REQUERENTE].\"\n",
        "    },\n",
        "    {\n",
        "        \"Titulo\": \"Pedido de Aposentadoria por Invalidez - Petição Judicial\",\n",
        "        \"Conteúdo\": \"Excelentíssimo Senhor Juiz de Direito da [VARA JUDICIAL], \\n\\nEu, [SEU NOME], nacionalidade [NACIONALIDADE], estado civil [ESTADO CIVIL], profissão [PROFISSÃO], inscrito no CPF [SEU CPF], residente e domiciliado na [SEU ENDEREÇO], por intermédio de meu advogado, conforme procuração anexa, vem, respeitosamente, perante Vossa Excelência, propor a presente \\n\\nAÇÃO PREVIDENCIÁRIA DE CONCESSÃO DE APOSENTADORIA POR INVALIDEZ \\n\\n[DESCRIÇÃO DOS FATOS E FUNDAMENTOS JURÍDICOS].\\n\\nDiante do exposto, requer a Vossa Excelência que seja julgada procedente a presente demanda, concedendo o benefício de aposentadoria por invalidez em favor do requerente. \\n\\nTermos em que,\\n\\n[LOCAL E DATA].\\n\\n[ASSINATURA DO REQUERENTE]\\n\\n[ASSINATURA DO ADVOGADO]\"\n",
        "    },\n",
        "    {\n",
        "        \"Titulo\": \"Pedido de Aposentadoria por Tempo de Contribuição - Petição Administrativa\",\n",
        "        \"Conteúdo\": \"Senhor(a) Presidente do Instituto Nacional do Seguro Social (INSS), \\n\\nEu, [SEU NOME], portador(a) do CPF [SEU CPF], residente e domiciliado(a) na [SEU ENDEREÇO], venho, por meio deste, requerer a concessão do benefício de aposentadoria por tempo de contribuição.\\n\\n[DESCRIÇÃO DOS FATOS E FUNDAMENTOS JURÍDICOS].\\n\\nDiante do exposto, requeiro a concessão do benefício de aposentadoria por tempo de contribuição, nos termos da legislação previdenciária vigente. \\n\\nTermos em que,\\n\\n[LOCAL E DATA].\\n\\n[ASSINATURA DO REQUERENTE].\"\n",
        "    },\n",
        "    {\n",
        "        \"Titulo\": \"Pedido de Aposentadoria por Idade - Petição Judicial\",\n",
        "        \"Conteúdo\": \"Excelentíssimo Senhor Juiz de Direito da [VARA JUDICIAL], \\n\\nEu, [SEU NOME], inscrito no CPF [SEU CPF], residente e domiciliado na [SEU ENDEREÇO], venho, por meio de meu advogado, com procuração em anexo, propor a presente \\n\\nAÇÃO PREVIDENCIÁRIA DE CONCESSÃO DE APOSENTADORIA POR IDADE \\n\\n[DESCRIÇÃO DOS FATOS E FUNDAMENTOS JURÍDICOS].\\n\\nDiante do exposto, requer a Vossa Excelência a concessão do benefício de aposentadoria por idade ao requerente. \\n\\nTermos em que,\\n\\n[LOCAL E DATA].\\n\\n[ASSINATURA DO REQUERENTE]\\n\\n[ASSINATURA DO ADVOGADO]\"\n",
        "    },\n",
        "    {\n",
        "        \"Titulo\": \"Pedido de Benefício de Prestação Continuada (LOAS) - Petição Administrativa\",\n",
        "        \"Conteúdo\": \"Excelentíssimo Senhor Presidente do Instituto Nacional do Seguro Social (INSS), \\n\\nEu, [SEU NOME], inscrito no CPF [SEU CPF], residente e domiciliado na [SEU ENDEREÇO], venho, por meio desta, requerer a concessão do Benefício de Prestação Continuada (LOAS).\\n\\n[DESCRIÇÃO DOS FATOS E FUNDAMENTOS JURÍDICOS].\\n\\nDiante do exposto, requer a concessão do Benefício de Prestação Continuada (LOAS), conforme previsto na Lei Orgânica da Assistência Social, em favor do requerente. \\n\\nTermos em que,\\n\\n[LOCAL E DATA].\\n\\n[ASSINATURA DO REQUERENTE].\"\n",
        "    }\n",
        "]"
      ],
      "metadata": {
        "id": "TeP_8S-IGECq"
      },
      "execution_count": 3,
      "outputs": []
    },
    {
      "cell_type": "code",
      "source": [
        "df = pd.DataFrame(documents)\n",
        "df.columns = [\"Titulo\", \"Conteudo\"]"
      ],
      "metadata": {
        "id": "QRGbGYwxIRHJ"
      },
      "execution_count": 6,
      "outputs": []
    },
    {
      "cell_type": "code",
      "source": [
        "model = \"models/embedding-001\""
      ],
      "metadata": {
        "id": "qns-e0ktItrT"
      },
      "execution_count": 7,
      "outputs": []
    },
    {
      "cell_type": "code",
      "source": [
        "def criar_embedding(titulo, conteudo):\n",
        "  return genai.embed_content(model=model,\n",
        "                             content=conteudo,\n",
        "                             title=titulo,\n",
        "                             task_type=\"RETRIEVAL_DOCUMENT\")[\"embedding\"]"
      ],
      "metadata": {
        "id": "H4bwNRx3JGE5"
      },
      "execution_count": 10,
      "outputs": []
    },
    {
      "cell_type": "code",
      "source": [
        "df[\"Embeddings\"] = df.apply(lambda row: criar_embedding(row[\"Titulo\"], row[\"Conteudo\"]), axis=1)\n",
        "df"
      ],
      "metadata": {
        "id": "5OOwoITANXK8"
      },
      "execution_count": null,
      "outputs": []
    },
    {
      "cell_type": "code",
      "source": [
        "def executar_consulta(consulta, base, model):\n",
        "  embedding_da_consulta = genai.embed_content(model=model,\n",
        "                                              content=consulta,\n",
        "                                              task_type=\"RETRIEVAL_QUERY\")[\"embedding\"]\n",
        "\n",
        "  produtos_escalares = np.dot(np.stack(df[\"Embeddings\"]), embedding_da_consulta)\n",
        "\n",
        "  indice = np.argmax(produtos_escalares)\n",
        "  return df.iloc[indice]"
      ],
      "metadata": {
        "id": "8e-NvVp9droY"
      },
      "execution_count": 17,
      "outputs": []
    },
    {
      "cell_type": "code",
      "source": [
        "input_consulta = input(\"Qual o caso do seu cliente?\")\n",
        "peca_sugerida = executar_consulta(input_consulta, df, model)\n",
        "print(peca_sugerida)\n",
        "input_nome = input(\"Nome do cliente:\")\n",
        "input_data_nascimento = input(\"Data Nascimento:\")\n",
        "input_cpf = input(\"CPF:\")\n",
        "input_rg = input(\"RG:\")\n",
        "\n",
        "prompt = f\"Com base no modelo sugerido para a consulta '{peca_sugerida.Conteudo}', crie uma petição inicial com os dados informados pelo usuário:nome {input_nome},data nascimento {input_data_nascimento},cpf {input_cpf},rg {input_rg}\"\n",
        "model_2 = genai.GenerativeModel(\"gemini-1.0-pro\")\n",
        "response = model_2.generate_content(prompt)\n",
        "print(response.text)\n"
      ],
      "metadata": {
        "colab": {
          "base_uri": "https://localhost:8080/",
          "height": 888
        },
        "id": "44i5Nq-hetc4",
        "outputId": "8184f347-7f05-4504-b73b-687a291765ac"
      },
      "execution_count": 21,
      "outputs": [
        {
          "output_type": "stream",
          "name": "stdout",
          "text": [
            "Qual o caso do seu cliente?homem 69 anos rural 10 anos de carteira\n",
            "Titulo        Pedido de Aposentadoria por Idade - Petição Ju...\n",
            "Conteudo      Excelentíssimo Senhor Juiz de Direito da [VARA...\n",
            "Embeddings    [-0.0058736824, -0.035543468, -0.054281358, -0...\n",
            "Name: 3, dtype: object\n",
            "Nome do cliente:cicero\n",
            "Data Nascimento:01/01/1965\n",
            "CPF:12345678901\n",
            "RG:123456789\n",
            "Excelentíssimo Senhor Juiz de Direito da [VARA JUDICIAL],\n",
            "\n",
            "Eu, **Cícero**, inscrito no CPF nº 123.456.789-01, RG nº 12.345.678-9, residente e domiciliado na [SEU ENDEREÇO], venho, por meio de meu advogado, com procuração em anexo, propor a presente\n",
            "\n",
            "**AÇÃO PREVIDENCIÁRIA DE CONCESSÃO DE APOSENTADORIA POR IDADE**\n",
            "\n",
            "**I - DOS FATOS E FUNDAMENTOS JURÍDICOS**\n",
            "\n",
            "Nascido em 01/01/1965, o requerente completou 65 (sessenta e cinco) anos de idade em 01/01/2023, conforme certidão de nascimento anexa, preenchendo assim os requisitos para requerer aposentadoria por idade.\n",
            "\n",
            "O requerente é segurado do INSS desde [DATA DE INÍCIO DA CONTRIBUIÇÃO], conforme extrato do Cadastro Nacional de Informações Sociais (CNIS) em anexo.\n",
            "\n",
            "Ao longo de sua vida laboral, o requerente exerceu atividades que se enquadram na categoria de atividades especiais, sujeitas a condições prejudiciais à saúde ou à integridade física, conforme laudo técnico anexado.\n",
            "\n",
            "Nos termos do artigo 48 da Lei nº 8.213/91, o requerente tem direito à aposentadoria por idade após completar 60 (sessenta) anos de idade, devido ao exercício de atividades especiais.\n",
            "\n",
            "**II - DO PEDIDO**\n",
            "\n",
            "Diante do exposto, requer a Vossa Excelência a concessão do benefício de aposentadoria por idade ao requerente, com base nos seguintes fundamentos:\n",
            "\n",
            "* Preenchimento dos requisitos etários e contributivos;\n",
            "* Exercício de atividades especiais;\n",
            "* Laudo técnico comprovando as condições prejudiciais à saúde.\n",
            "\n",
            "**III - DOS REQUERIMENTOS**\n",
            "\n",
            "Requer, ainda:\n",
            "\n",
            "* A citação do INSS para apresentar contestação, sob pena de revelia;\n",
            "* A produção de todos os meios de prova admitidos em direito, em especial a perícia médica;\n",
            "* A condenação do INSS ao pagamento do benefício de aposentadoria por idade, desde a data do requerimento administrativo;\n",
            "* Que todos os atos processuais sejam intimados exclusivamente no endereço do advogado abaixo assinado.\n",
            "\n",
            "Termos em que,\n",
            "\n",
            "[LOCAL E DATA].\n",
            "\n",
            "[ASSINATURA DO REQUERENTE]\n",
            "\n",
            "[ASSINATURA DO ADVOGADO]\n"
          ]
        }
      ]
    }
  ]
}